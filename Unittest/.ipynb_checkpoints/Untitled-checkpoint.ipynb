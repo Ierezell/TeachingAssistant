{
 "cells": [
  {
   "cell_type": "code",
   "execution_count": 1,
   "metadata": {},
   "outputs": [],
   "source": [
    "import os\n",
    "import glob"
   ]
  },
  {
   "cell_type": "code",
   "execution_count": 6,
   "metadata": {},
   "outputs": [
    {
     "name": "stdout",
     "output_type": "stream",
     "text": [
      "/run/media/pedrom/Documents/Projets/Laval/TA/Unittest/prof/projet1.py\n",
      "/run/media/pedrom/Documents/Projets/Laval/TA/Unittest/test/projet1.py\n",
      "/run/media/pedrom/Documents/Projets/Laval/TA/Unittest/test2/projet1.py\n"
     ]
    }
   ],
   "source": [
    "filesDepth1 = glob.glob('soumissions/*')\n",
    "dirsDepth1 = filter(lambda f: os.path.isdir(f), filesDepth1)\n",
    "listResult = {}\n",
    "listPathRemise = []\n",
    "for folder in dirsDepth1:\n",
    "    for file in os.listdir(os.path.join(\"./\", folder)):\n",
    "        if file == \"projet1.py\":\n",
    "            listPathRemise.append(os.path.abspath(os.path.join(os.path.relpath(folder),file)))"
   ]
  },
  {
   "cell_type": "code",
   "execution_count": null,
   "metadata": {},
   "outputs": [],
   "source": []
  }
 ],
 "metadata": {
  "kernelspec": {
   "display_name": "Python 3",
   "language": "python",
   "name": "python3"
  },
  "language_info": {
   "codemirror_mode": {
    "name": "ipython",
    "version": 3
   },
   "file_extension": ".py",
   "mimetype": "text/x-python",
   "name": "python",
   "nbconvert_exporter": "python",
   "pygments_lexer": "ipython3",
   "version": "3.6.6"
  }
 },
 "nbformat": 4,
 "nbformat_minor": 2
}
